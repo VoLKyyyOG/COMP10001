{
 "cells": [
  {
   "cell_type": "markdown",
   "metadata": {},
   "source": [
    "# COMP10001 2021 Summer Term\n",
    "- Tutor: Akira Takihara Wang\n",
    "- Times: Tuesday 1pm - 5:15pm (any tutorial block)"
   ]
  },
  {
   "cell_type": "code",
   "execution_count": 382,
   "metadata": {},
   "outputs": [],
   "source": [
    "def make_table(data):\n",
    "    \"\"\"\n",
    "    Return a string of `data` in a HTML table structure with border type 1.\n",
    "    `data` is a list of lists, with each list corresponding to\n",
    "    a row in the table. The first list is the header.\n",
    "    \"\"\"\n",
    "    # Data is empty\n",
    "    if not data:\n",
    "        return None\n",
    "    \n",
    "    # Columns in header\n",
    "    header_entry_count = len(data[0])\n",
    "    \n",
    "    # Generate header\n",
    "    html = '<table border=\"1\"><tr>'\n",
    "    for header_entry in data[0]:\n",
    "        html += f\"<th>{header_entry}</th>\"\n",
    "    html += \"</tr>\"\n",
    "    \n",
    "    # Generate data rows\n",
    "    for row in data[1:]:\n",
    "        if len(row) != header_entry_count:\n",
    "            return \"The number of columns should be the same!\"\n",
    "        html += \"<tr>\"\n",
    "        # Row entries\n",
    "        for body_entry in row:\n",
    "            html += f\"<td>{body_entry}</td>\"\n",
    "        html += \"</tr>\"\n",
    "    \n",
    "    html += \"</table>\"\n",
    "    return html\n",
    "\n",
    "\n",
    "assert make_table([[\"Col1\",\"Col2\",\"Col3\"],[11,12,13],[21,22,23],[31,32,33]]) == '<table border=\"1\"><tr><th>Col1</th><th>Col2</th><th>Col3</th></tr><tr><td>11</td><td>12</td><td>13</td></tr><tr><td>21</td><td>22</td><td>23</td></tr><tr><td>31</td><td>32</td><td>33</td></tr></table>'"
   ]
  },
  {
   "cell_type": "code",
   "execution_count": 385,
   "metadata": {},
   "outputs": [],
   "source": []
  },
  {
   "cell_type": "code",
   "execution_count": null,
   "metadata": {},
   "outputs": [],
   "source": []
  }
 ],
 "metadata": {
  "kernelspec": {
   "display_name": "Python 3",
   "language": "python",
   "name": "python3"
  },
  "language_info": {
   "codemirror_mode": {
    "name": "ipython",
    "version": 3
   },
   "file_extension": ".py",
   "mimetype": "text/x-python",
   "name": "python",
   "nbconvert_exporter": "python",
   "pygments_lexer": "ipython3",
   "version": "3.8.5"
  },
  "varInspector": {
   "cols": {
    "lenName": 16,
    "lenType": 16,
    "lenVar": 40
   },
   "kernels_config": {
    "python": {
     "delete_cmd_postfix": "",
     "delete_cmd_prefix": "del ",
     "library": "var_list.py",
     "varRefreshCmd": "print(var_dic_list())"
    },
    "r": {
     "delete_cmd_postfix": ") ",
     "delete_cmd_prefix": "rm(",
     "library": "var_list.r",
     "varRefreshCmd": "cat(var_dic_list()) "
    }
   },
   "types_to_exclude": [
    "module",
    "function",
    "builtin_function_or_method",
    "instance",
    "_Feature"
   ],
   "window_display": false
  }
 },
 "nbformat": 4,
 "nbformat_minor": 4
}
