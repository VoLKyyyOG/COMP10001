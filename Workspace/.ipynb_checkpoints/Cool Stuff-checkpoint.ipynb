{
 "cells": [
  {
   "cell_type": "code",
   "execution_count": 1,
   "metadata": {},
   "outputs": [],
   "source": [
    "d = {'a': 0, 'b': 7}"
   ]
  },
  {
   "cell_type": "code",
   "execution_count": 2,
   "metadata": {},
   "outputs": [
    {
     "data": {
      "text/plain": [
       "{'a': 0, 'b': 7}"
      ]
     },
     "execution_count": 2,
     "metadata": {},
     "output_type": "execute_result"
    }
   ],
   "source": [
    "d"
   ]
  },
  {
   "cell_type": "code",
   "execution_count": 10,
   "metadata": {},
   "outputs": [
    {
     "data": {
      "text/plain": [
       "0"
      ]
     },
     "execution_count": 10,
     "metadata": {},
     "output_type": "execute_result"
    }
   ],
   "source": [
    "d.get('z', 0)"
   ]
  },
  {
   "cell_type": "code",
   "execution_count": null,
   "metadata": {},
   "outputs": [],
   "source": []
  },
  {
   "cell_type": "code",
   "execution_count": null,
   "metadata": {},
   "outputs": [],
   "source": []
  },
  {
   "cell_type": "code",
   "execution_count": null,
   "metadata": {},
   "outputs": [],
   "source": []
  },
  {
   "cell_type": "code",
   "execution_count": null,
   "metadata": {},
   "outputs": [],
   "source": []
  },
  {
   "cell_type": "code",
   "execution_count": null,
   "metadata": {},
   "outputs": [],
   "source": []
  },
  {
   "cell_type": "code",
   "execution_count": null,
   "metadata": {},
   "outputs": [],
   "source": []
  },
  {
   "cell_type": "code",
   "execution_count": null,
   "metadata": {},
   "outputs": [],
   "source": []
  },
  {
   "cell_type": "code",
   "execution_count": null,
   "metadata": {},
   "outputs": [],
   "source": []
  },
  {
   "cell_type": "code",
   "execution_count": null,
   "metadata": {},
   "outputs": [],
   "source": []
  },
  {
   "cell_type": "code",
   "execution_count": null,
   "metadata": {},
   "outputs": [],
   "source": []
  },
  {
   "cell_type": "code",
   "execution_count": null,
   "metadata": {},
   "outputs": [],
   "source": []
  },
  {
   "cell_type": "code",
   "execution_count": null,
   "metadata": {},
   "outputs": [],
   "source": []
  },
  {
   "cell_type": "code",
   "execution_count": null,
   "metadata": {},
   "outputs": [],
   "source": []
  },
  {
   "cell_type": "code",
   "execution_count": null,
   "metadata": {},
   "outputs": [],
   "source": []
  },
  {
   "cell_type": "markdown",
   "metadata": {},
   "source": [
    "# Iteration vs Recursion"
   ]
  },
  {
   "cell_type": "code",
   "execution_count": 1,
   "metadata": {},
   "outputs": [],
   "source": [
    "text = \"wow this is a cool thing\""
   ]
  },
  {
   "cell_type": "code",
   "execution_count": 2,
   "metadata": {
    "scrolled": true
   },
   "outputs": [
    {
     "data": {
      "text/plain": [
       "'wow this is a cool thing'"
      ]
     },
     "execution_count": 2,
     "metadata": {},
     "output_type": "execute_result"
    }
   ],
   "source": [
    "text"
   ]
  },
  {
   "cell_type": "code",
   "execution_count": 3,
   "metadata": {},
   "outputs": [],
   "source": [
    "# iterative solution\n",
    "def find_n(text, letter='n'):\n",
    "    for idx, char in enumerate(text):\n",
    "        print(f\"Index: {idx}    {char}\")\n",
    "        if char == letter:\n",
    "            print(\"\\nSTOP\")\n",
    "            print(f\"Found {letter} at index {idx}\")\n",
    "            return "
   ]
  },
  {
   "cell_type": "code",
   "execution_count": 4,
   "metadata": {},
   "outputs": [
    {
     "name": "stdout",
     "output_type": "stream",
     "text": [
      "Index: 0    w\n",
      "Index: 1    o\n",
      "Index: 2    w\n",
      "Index: 3     \n",
      "Index: 4    t\n",
      "Index: 5    h\n",
      "Index: 6    i\n",
      "Index: 7    s\n",
      "Index: 8     \n",
      "Index: 9    i\n",
      "Index: 10    s\n",
      "Index: 11     \n",
      "Index: 12    a\n",
      "Index: 13     \n",
      "Index: 14    c\n",
      "Index: 15    o\n",
      "Index: 16    o\n",
      "Index: 17    l\n",
      "Index: 18     \n",
      "Index: 19    t\n",
      "Index: 20    h\n",
      "Index: 21    i\n",
      "Index: 22    n\n",
      "\n",
      "STOP\n",
      "Found n at index 22\n"
     ]
    }
   ],
   "source": [
    "find_n(text, 'n')"
   ]
  },
  {
   "cell_type": "code",
   "execution_count": 5,
   "metadata": {},
   "outputs": [],
   "source": [
    "def find_n(text, calls=0, letter='n'):\n",
    "    print(f\"Call: {calls}    {text}\")\n",
    "    if text and text[0] == letter:\n",
    "        print(\"\\nSTOP\")\n",
    "        print(f\"Found {letter} at index {calls}\")\n",
    "        return\n",
    "    \n",
    "    return find_n(text[1:], calls + 1)"
   ]
  },
  {
   "cell_type": "code",
   "execution_count": 6,
   "metadata": {},
   "outputs": [
    {
     "name": "stdout",
     "output_type": "stream",
     "text": [
      "Call: 0    wow this is a cool thing\n",
      "Call: 1    ow this is a cool thing\n",
      "Call: 2    w this is a cool thing\n",
      "Call: 3     this is a cool thing\n",
      "Call: 4    this is a cool thing\n",
      "Call: 5    his is a cool thing\n",
      "Call: 6    is is a cool thing\n",
      "Call: 7    s is a cool thing\n",
      "Call: 8     is a cool thing\n",
      "Call: 9    is a cool thing\n",
      "Call: 10    s a cool thing\n",
      "Call: 11     a cool thing\n",
      "Call: 12    a cool thing\n",
      "Call: 13     cool thing\n",
      "Call: 14    cool thing\n",
      "Call: 15    ool thing\n",
      "Call: 16    ol thing\n",
      "Call: 17    l thing\n",
      "Call: 18     thing\n",
      "Call: 19    thing\n",
      "Call: 20    hing\n",
      "Call: 21    ing\n",
      "Call: 22    ng\n",
      "\n",
      "STOP\n",
      "Found n at index 22\n"
     ]
    }
   ],
   "source": [
    "find_n(text)"
   ]
  },
  {
   "cell_type": "markdown",
   "metadata": {},
   "source": [
    "exercise question for recursion"
   ]
  },
  {
   "cell_type": "code",
   "execution_count": 7,
   "metadata": {},
   "outputs": [],
   "source": [
    "def mistero(x):\n",
    "    a = len(x)\n",
    "    if a == 1:\n",
    "        return x[0]\n",
    "    else:\n",
    "        y = mistero(x[a//2:])\n",
    "        z = mistero(x[:a//2])\n",
    "        if z > y:\n",
    "            return z\n",
    "        else:\n",
    "            return y"
   ]
  },
  {
   "cell_type": "code",
   "execution_count": 8,
   "metadata": {},
   "outputs": [],
   "source": [
    "CALL = 0\n",
    "\n",
    "def mistero(lst):\n",
    "    global CALL\n",
    "    print(f\"\\n     CALL: {CALL}\\n\")\n",
    "    CALL += 1\n",
    "\n",
    "    \n",
    "    listLen = len(lst)\n",
    "    \n",
    "    print(f\"Number of elements: {listLen}    List: {lst}\")\n",
    "    \n",
    "    if listLen == 1:\n",
    "        return lst[0]\n",
    "    else:\n",
    "        upper = mistero(lst[listLen//2:])\n",
    "        lower = mistero(lst[:listLen//2])\n",
    "        \n",
    "        print(f\"Upper: {upper}    Lower: {lower}\")\n",
    "        \n",
    "        if lower > upper:\n",
    "            print(f\"Keep {lower}\")\n",
    "            return lower\n",
    "        else:\n",
    "            print(f\"Keep {upper}\")\n",
    "            return upper"
   ]
  },
  {
   "cell_type": "code",
   "execution_count": 9,
   "metadata": {},
   "outputs": [
    {
     "name": "stdout",
     "output_type": "stream",
     "text": [
      "\n",
      "     CALL: 0\n",
      "\n",
      "Number of elements: 6    List: [0, 1, 2, 3, 4, 5]\n",
      "\n",
      "     CALL: 1\n",
      "\n",
      "Number of elements: 3    List: [3, 4, 5]\n",
      "\n",
      "     CALL: 2\n",
      "\n",
      "Number of elements: 2    List: [4, 5]\n",
      "\n",
      "     CALL: 3\n",
      "\n",
      "Number of elements: 1    List: [5]\n",
      "\n",
      "     CALL: 4\n",
      "\n",
      "Number of elements: 1    List: [4]\n",
      "Upper: 5    Lower: 4\n",
      "Keep 5\n",
      "\n",
      "     CALL: 5\n",
      "\n",
      "Number of elements: 1    List: [3]\n",
      "Upper: 5    Lower: 3\n",
      "Keep 5\n",
      "\n",
      "     CALL: 6\n",
      "\n",
      "Number of elements: 3    List: [0, 1, 2]\n",
      "\n",
      "     CALL: 7\n",
      "\n",
      "Number of elements: 2    List: [1, 2]\n",
      "\n",
      "     CALL: 8\n",
      "\n",
      "Number of elements: 1    List: [2]\n",
      "\n",
      "     CALL: 9\n",
      "\n",
      "Number of elements: 1    List: [1]\n",
      "Upper: 2    Lower: 1\n",
      "Keep 2\n",
      "\n",
      "     CALL: 10\n",
      "\n",
      "Number of elements: 1    List: [0]\n",
      "Upper: 2    Lower: 0\n",
      "Keep 2\n",
      "Upper: 5    Lower: 2\n",
      "Keep 5\n"
     ]
    },
    {
     "data": {
      "text/plain": [
       "5"
      ]
     },
     "execution_count": 9,
     "metadata": {},
     "output_type": "execute_result"
    }
   ],
   "source": [
    "mistero(list(range(6)))"
   ]
  },
  {
   "cell_type": "code",
   "execution_count": 10,
   "metadata": {},
   "outputs": [
    {
     "name": "stdout",
     "output_type": "stream",
     "text": [
      "\n",
      "     CALL: 11\n",
      "\n",
      "Number of elements: 7    List: [-1, 0, 10, 10000, 50, 66, 80]\n",
      "\n",
      "     CALL: 12\n",
      "\n",
      "Number of elements: 4    List: [10000, 50, 66, 80]\n",
      "\n",
      "     CALL: 13\n",
      "\n",
      "Number of elements: 2    List: [66, 80]\n",
      "\n",
      "     CALL: 14\n",
      "\n",
      "Number of elements: 1    List: [80]\n",
      "\n",
      "     CALL: 15\n",
      "\n",
      "Number of elements: 1    List: [66]\n",
      "Upper: 80    Lower: 66\n",
      "Keep 80\n",
      "\n",
      "     CALL: 16\n",
      "\n",
      "Number of elements: 2    List: [10000, 50]\n",
      "\n",
      "     CALL: 17\n",
      "\n",
      "Number of elements: 1    List: [50]\n",
      "\n",
      "     CALL: 18\n",
      "\n",
      "Number of elements: 1    List: [10000]\n",
      "Upper: 50    Lower: 10000\n",
      "Keep 10000\n",
      "Upper: 80    Lower: 10000\n",
      "Keep 10000\n",
      "\n",
      "     CALL: 19\n",
      "\n",
      "Number of elements: 3    List: [-1, 0, 10]\n",
      "\n",
      "     CALL: 20\n",
      "\n",
      "Number of elements: 2    List: [0, 10]\n",
      "\n",
      "     CALL: 21\n",
      "\n",
      "Number of elements: 1    List: [10]\n",
      "\n",
      "     CALL: 22\n",
      "\n",
      "Number of elements: 1    List: [0]\n",
      "Upper: 10    Lower: 0\n",
      "Keep 10\n",
      "\n",
      "     CALL: 23\n",
      "\n",
      "Number of elements: 1    List: [-1]\n",
      "Upper: 10    Lower: -1\n",
      "Keep 10\n",
      "Upper: 10000    Lower: 10\n",
      "Keep 10000\n"
     ]
    },
    {
     "data": {
      "text/plain": [
       "10000"
      ]
     },
     "execution_count": 10,
     "metadata": {},
     "output_type": "execute_result"
    }
   ],
   "source": [
    "mistero([-1,0,10,10000,50,66,80])"
   ]
  },
  {
   "cell_type": "markdown",
   "metadata": {},
   "source": [
    "# Previous Exam\n",
    "\n",
    "#### Question 1\n",
    "\n",
    "`097097114103104` with `k=3`:\n",
    "- `097` = `a`\n",
    "- `097` = `a`\n",
    "- `114` = `r`\n",
    "- `103` = `g`\n",
    "- `104` = `h`"
   ]
  },
  {
   "cell_type": "code",
   "execution_count": 11,
   "metadata": {},
   "outputs": [],
   "source": [
    "from run import *"
   ]
  },
  {
   "cell_type": "code",
   "execution_count": 12,
   "metadata": {},
   "outputs": [
    {
     "name": "stdout",
     "output_type": "stream",
     "text": [
      "aargh\n"
     ]
    }
   ],
   "source": [
    "print(num2txt(97097114103104, k=3))"
   ]
  },
  {
   "cell_type": "markdown",
   "metadata": {},
   "source": [
    "#### Question 2\n",
    "The function `reverse_records(csv_filename, new_filename)` takes in an input `csv_filename` and copies its content into `new_filename`.   \n",
    "- The header of the input file is copied first\n",
    "- Then, the ordering of the remaining rows are reversed such that the last row in the input file is inserted in the output file first."
   ]
  },
  {
   "cell_type": "code",
   "execution_count": 13,
   "metadata": {},
   "outputs": [
    {
     "name": "stdout",
     "output_type": "stream",
     "text": [
      "Input\n"
     ]
    },
    {
     "data": {
      "text/html": [
       "<div>\n",
       "<style scoped>\n",
       "    .dataframe tbody tr th:only-of-type {\n",
       "        vertical-align: middle;\n",
       "    }\n",
       "\n",
       "    .dataframe tbody tr th {\n",
       "        vertical-align: top;\n",
       "    }\n",
       "\n",
       "    .dataframe thead th {\n",
       "        text-align: right;\n",
       "    }\n",
       "</style>\n",
       "<table border=\"1\" class=\"dataframe\">\n",
       "  <thead>\n",
       "    <tr style=\"text-align: right;\">\n",
       "      <th></th>\n",
       "      <th>col1</th>\n",
       "      <th>col2</th>\n",
       "      <th>col3</th>\n",
       "    </tr>\n",
       "  </thead>\n",
       "  <tbody>\n",
       "    <tr>\n",
       "      <th></th>\n",
       "      <td>1</td>\n",
       "      <td>2</td>\n",
       "      <td>3</td>\n",
       "    </tr>\n",
       "    <tr>\n",
       "      <th></th>\n",
       "      <td>4</td>\n",
       "      <td>5</td>\n",
       "      <td>6</td>\n",
       "    </tr>\n",
       "    <tr>\n",
       "      <th></th>\n",
       "      <td>7</td>\n",
       "      <td>8</td>\n",
       "      <td>9</td>\n",
       "    </tr>\n",
       "    <tr>\n",
       "      <th></th>\n",
       "      <td>a</td>\n",
       "      <td>b</td>\n",
       "      <td>c</td>\n",
       "    </tr>\n",
       "    <tr>\n",
       "      <th></th>\n",
       "      <td>x</td>\n",
       "      <td>y</td>\n",
       "      <td>z</td>\n",
       "    </tr>\n",
       "  </tbody>\n",
       "</table>\n",
       "</div>"
      ],
      "text/plain": [
       " col1  col2  col3\n",
       "    1     2     3\n",
       "    4     5     6\n",
       "    7     8     9\n",
       "    a     b     c\n",
       "    x     y     z"
      ]
     },
     "metadata": {},
     "output_type": "display_data"
    },
    {
     "name": "stdout",
     "output_type": "stream",
     "text": [
      "Output\n"
     ]
    },
    {
     "data": {
      "text/html": [
       "<div>\n",
       "<style scoped>\n",
       "    .dataframe tbody tr th:only-of-type {\n",
       "        vertical-align: middle;\n",
       "    }\n",
       "\n",
       "    .dataframe tbody tr th {\n",
       "        vertical-align: top;\n",
       "    }\n",
       "\n",
       "    .dataframe thead th {\n",
       "        text-align: right;\n",
       "    }\n",
       "</style>\n",
       "<table border=\"1\" class=\"dataframe\">\n",
       "  <thead>\n",
       "    <tr style=\"text-align: right;\">\n",
       "      <th></th>\n",
       "      <th>col1</th>\n",
       "      <th>col2</th>\n",
       "      <th>col3</th>\n",
       "    </tr>\n",
       "  </thead>\n",
       "  <tbody>\n",
       "    <tr>\n",
       "      <th></th>\n",
       "      <td>x</td>\n",
       "      <td>y</td>\n",
       "      <td>z</td>\n",
       "    </tr>\n",
       "    <tr>\n",
       "      <th></th>\n",
       "      <td>a</td>\n",
       "      <td>b</td>\n",
       "      <td>c</td>\n",
       "    </tr>\n",
       "    <tr>\n",
       "      <th></th>\n",
       "      <td>7</td>\n",
       "      <td>8</td>\n",
       "      <td>9</td>\n",
       "    </tr>\n",
       "    <tr>\n",
       "      <th></th>\n",
       "      <td>4</td>\n",
       "      <td>5</td>\n",
       "      <td>6</td>\n",
       "    </tr>\n",
       "    <tr>\n",
       "      <th></th>\n",
       "      <td>1</td>\n",
       "      <td>2</td>\n",
       "      <td>3</td>\n",
       "    </tr>\n",
       "  </tbody>\n",
       "</table>\n",
       "</div>"
      ],
      "text/plain": [
       " col1  col2  col3\n",
       "    x     y     z\n",
       "    a     b     c\n",
       "    7     8     9\n",
       "    4     5     6\n",
       "    1     2     3"
      ]
     },
     "metadata": {},
     "output_type": "display_data"
    }
   ],
   "source": [
    "stuff()"
   ]
  }
 ],
 "metadata": {
  "kernelspec": {
   "display_name": "Python 3",
   "language": "python",
   "name": "python3"
  },
  "language_info": {
   "codemirror_mode": {
    "name": "ipython",
    "version": 3
   },
   "file_extension": ".py",
   "mimetype": "text/x-python",
   "name": "python",
   "nbconvert_exporter": "python",
   "pygments_lexer": "ipython3",
   "version": "3.8.5"
  }
 },
 "nbformat": 4,
 "nbformat_minor": 4
}
