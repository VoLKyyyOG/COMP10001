{
 "cells": [
  {
   "cell_type": "markdown",
   "metadata": {},
   "source": [
    "# Recursion Exercise Replacements"
   ]
  },
  {
   "cell_type": "markdown",
   "metadata": {},
   "source": [
    "Here, we have a function that computes the power of a number iteratively. You can assume the power will always be greater than or equal to $0$. Try and convert it to a recursive function!"
   ]
  },
  {
   "cell_type": "code",
   "execution_count": 18,
   "metadata": {},
   "outputs": [
    {
     "name": "stdout",
     "output_type": "stream",
     "text": [
      "625 == 625\n",
      "343 == 343\n",
      "1 == 1\n"
     ]
    }
   ],
   "source": [
    "def power(n, p):\n",
    "    \"\"\"\n",
    "    For all positive powers, calculate n ** p iteratively.\n",
    "    Example: n = 5, p = 4 should return 625\n",
    "    \"\"\"\n",
    "    result = 1\n",
    "    for i in range(p):\n",
    "        result *= n\n",
    "    return result\n",
    "\n",
    "print(f\"{power(5, 4)} == {5**4}\")\n",
    "print(f\"{power(7, 3)} == {7**3}\")\n",
    "print(f\"{power(10, 0)} == {10**0}\")"
   ]
  },
  {
   "cell_type": "markdown",
   "metadata": {},
   "source": [
    "What steps do I do for converting?\n",
    "- What is the base case?\n",
    "- What is the recursive case?\n",
    "- How do we break this \"problem\" into a \"sub-problem\""
   ]
  },
  {
   "cell_type": "code",
   "execution_count": null,
   "metadata": {},
   "outputs": [],
   "source": []
  },
  {
   "cell_type": "markdown",
   "metadata": {},
   "source": [
    "What steps do I do for converting?\n",
    "- What is the base case?\n",
    "    - **The base case is when the power is 0**\n",
    "- What is the recursive case?\n",
    "    - **The recursive case is when the power is greater than 0**\n",
    "- How do we break this \"problem\" into a \"sub-problem\"\n",
    "    - **We break it down by calculating the power - 1 of the number, until we hit power = 0**\n",
    "    \n",
    "    \n",
    "- For example, if we had $5^3$, then this is the same as saying $5^3 = 5^2 \\times 5$, where $5^2 = 5^1 \\times 5$ and $5^1 = 5^0 \\times 5$\n",
    "- Another example, is $6^4$\n",
    "    - $6^4 = 6^3 \\times 6$. But, what is $6^3$? Let's calculate it.\n",
    "    - Well, $6^3 = 6^2 \\times 6$. But, what is $6^2$? Let's calculate it.\n",
    "    - Well, $6^2 = 6^1 \\times 6$. But, what is $6^1$? Let's calculate it.\n",
    "    - Well, $6^1 = 6^0 \\times 6$. But, what is $6^0$? \n",
    "    - Actually, $6^0$ is the base case where we return 1 (anything to the power of $0$ is $1$)\n",
    "    - Therefore, $6^1 = 6^0 \\times 6 = 6$\n",
    "    - Now we know that $6^1 = 6$, then $6^2 = 6^1 \\times 6$ which is now $6^2 = 6 \\times 6 = 36$\n",
    "    - Hence $6^3 = 6^2 \\times 6$ is really just $6^3 = 36 \\times 6 = 216$\n",
    "    - Finally, our goal of $6^4$ is now just $6^4 = 6^3 \\times 6$ which becomes $6^4 = 216 \\times 6 = 1296$\n",
    "    - Therefore, our answer is $6^4 = 1296$"
   ]
  },
  {
   "cell_type": "code",
   "execution_count": null,
   "metadata": {},
   "outputs": [],
   "source": [
    "def power(n, p):\n",
    "    \"\"\"\n",
    "    For all positive powers, calculate n ** p recursively\n",
    "    \"\"\"\n",
    "    if p == 0:\n",
    "        return 1\n",
    "    return power(n, p-1) * n\n",
    "\n",
    "print(f\"{power(5, 4)} == {5**4}\")\n",
    "print(f\"{power(7, 3)} == {7**3}\")\n",
    "print(f\"{power(10, 0)} == {10**0}\")"
   ]
  }
 ],
 "metadata": {
  "kernelspec": {
   "display_name": "Python 3",
   "language": "python",
   "name": "python3"
  },
  "language_info": {
   "codemirror_mode": {
    "name": "ipython",
    "version": 3
   },
   "file_extension": ".py",
   "mimetype": "text/x-python",
   "name": "python",
   "nbconvert_exporter": "python",
   "pygments_lexer": "ipython3",
   "version": "3.8.5"
  },
  "varInspector": {
   "cols": {
    "lenName": 16,
    "lenType": 16,
    "lenVar": 40
   },
   "kernels_config": {
    "python": {
     "delete_cmd_postfix": "",
     "delete_cmd_prefix": "del ",
     "library": "var_list.py",
     "varRefreshCmd": "print(var_dic_list())"
    },
    "r": {
     "delete_cmd_postfix": ") ",
     "delete_cmd_prefix": "rm(",
     "library": "var_list.r",
     "varRefreshCmd": "cat(var_dic_list()) "
    }
   },
   "types_to_exclude": [
    "module",
    "function",
    "builtin_function_or_method",
    "instance",
    "_Feature"
   ],
   "window_display": false
  }
 },
 "nbformat": 4,
 "nbformat_minor": 4
}
