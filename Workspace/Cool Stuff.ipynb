{
 "cells": [
  {
   "cell_type": "code",
   "execution_count": 1,
   "metadata": {},
   "outputs": [],
   "source": [
    "def remove_negatives(nums):\n",
    "    nums_to_remove = []\n",
    "    for num in nums:\n",
    "        if num < 0:\n",
    "            nums_to_remove.append(num)\n",
    "    \n",
    "    for num in nums_to_remove:\n",
    "        nums.remove(num)"
   ]
  },
  {
   "cell_type": "code",
   "execution_count": 2,
   "metadata": {},
   "outputs": [
    {
     "data": {
      "text/plain": [
       "[]"
      ]
     },
     "execution_count": 2,
     "metadata": {},
     "output_type": "execute_result"
    }
   ],
   "source": [
    "test_case = [-2, -3, -4]\n",
    "remove_negatives(test_case)\n",
    "test_case"
   ]
  },
  {
   "cell_type": "code",
   "execution_count": null,
   "metadata": {},
   "outputs": [],
   "source": []
  },
  {
   "cell_type": "code",
   "execution_count": 5,
   "metadata": {},
   "outputs": [],
   "source": [
    "nums1 = [] # []\n",
    "nums2 = [-2, -3, 5] # []\n",
    "nums3 = [3, 4, 5] # [3, 4, 5]"
   ]
  },
  {
   "cell_type": "code",
   "execution_count": 6,
   "metadata": {},
   "outputs": [
    {
     "name": "stdout",
     "output_type": "stream",
     "text": [
      "[]\n",
      "[5]\n",
      "[3, 4, 5]\n"
     ]
    }
   ],
   "source": [
    "remove_negatives(nums1)\n",
    "remove_negatives(nums2)\n",
    "remove_negatives(nums3)\n",
    "\n",
    "print(nums1)\n",
    "print(nums2)\n",
    "print(nums3)"
   ]
  },
  {
   "cell_type": "code",
   "execution_count": null,
   "metadata": {},
   "outputs": [],
   "source": []
  },
  {
   "cell_type": "code",
   "execution_count": null,
   "metadata": {},
   "outputs": [],
   "source": []
  },
  {
   "cell_type": "code",
   "execution_count": null,
   "metadata": {},
   "outputs": [],
   "source": []
  },
  {
   "cell_type": "code",
   "execution_count": null,
   "metadata": {},
   "outputs": [],
   "source": []
  },
  {
   "cell_type": "code",
   "execution_count": null,
   "metadata": {},
   "outputs": [],
   "source": []
  },
  {
   "cell_type": "code",
   "execution_count": null,
   "metadata": {},
   "outputs": [],
   "source": []
  },
  {
   "cell_type": "code",
   "execution_count": null,
   "metadata": {},
   "outputs": [],
   "source": []
  },
  {
   "cell_type": "code",
   "execution_count": null,
   "metadata": {},
   "outputs": [],
   "source": []
  },
  {
   "cell_type": "code",
   "execution_count": null,
   "metadata": {},
   "outputs": [],
   "source": []
  },
  {
   "cell_type": "code",
   "execution_count": null,
   "metadata": {},
   "outputs": [],
   "source": []
  },
  {
   "cell_type": "markdown",
   "metadata": {},
   "source": [
    "# Iteration vs Recursion"
   ]
  },
  {
   "cell_type": "code",
   "execution_count": null,
   "metadata": {},
   "outputs": [],
   "source": [
    "text = \"wow this is a cool thing\""
   ]
  },
  {
   "cell_type": "code",
   "execution_count": null,
   "metadata": {
    "scrolled": true
   },
   "outputs": [],
   "source": [
    "text"
   ]
  },
  {
   "cell_type": "code",
   "execution_count": null,
   "metadata": {},
   "outputs": [],
   "source": [
    "# iterative solution\n",
    "def find_n(text, letter='n'):\n",
    "    for idx, char in enumerate(text):\n",
    "        print(f\"Index: {idx}    {char}\")\n",
    "        if char == letter:\n",
    "            print(\"\\nSTOP\")\n",
    "            print(f\"Found {letter} at index {idx}\")\n",
    "            return "
   ]
  },
  {
   "cell_type": "code",
   "execution_count": null,
   "metadata": {},
   "outputs": [],
   "source": [
    "find_n(text, 'n')"
   ]
  },
  {
   "cell_type": "code",
   "execution_count": null,
   "metadata": {},
   "outputs": [],
   "source": [
    "def find_n(text, calls=0, letter='n'):\n",
    "    print(f\"Call: {calls}    {text}\")\n",
    "    if text and text[0] == letter:\n",
    "        print(\"\\nSTOP\")\n",
    "        print(f\"Found {letter} at index {calls}\")\n",
    "        return\n",
    "    \n",
    "    return find_n(text[1:], calls + 1)"
   ]
  },
  {
   "cell_type": "code",
   "execution_count": null,
   "metadata": {},
   "outputs": [],
   "source": [
    "find_n(text)"
   ]
  },
  {
   "cell_type": "markdown",
   "metadata": {},
   "source": [
    "exercise question for recursion"
   ]
  },
  {
   "cell_type": "code",
   "execution_count": null,
   "metadata": {},
   "outputs": [],
   "source": [
    "def mistero(x):\n",
    "    a = len(x)\n",
    "    if a == 1:\n",
    "        return x[0]\n",
    "    else:\n",
    "        y = mistero(x[a//2:])\n",
    "        z = mistero(x[:a//2])\n",
    "        if z > y:\n",
    "            return z\n",
    "        else:\n",
    "            return y"
   ]
  },
  {
   "cell_type": "code",
   "execution_count": null,
   "metadata": {},
   "outputs": [],
   "source": [
    "CALL = 0\n",
    "\n",
    "def mistero(lst):\n",
    "    global CALL\n",
    "    print(f\"\\n     CALL: {CALL}\\n\")\n",
    "    CALL += 1\n",
    "\n",
    "    \n",
    "    listLen = len(lst)\n",
    "    \n",
    "    print(f\"Number of elements: {listLen}    List: {lst}\")\n",
    "    \n",
    "    if listLen == 1:\n",
    "        return lst[0]\n",
    "    else:\n",
    "        upper = mistero(lst[listLen//2:])\n",
    "        lower = mistero(lst[:listLen//2])\n",
    "        \n",
    "        print(f\"Upper: {upper}    Lower: {lower}\")\n",
    "        \n",
    "        if lower > upper:\n",
    "            print(f\"Keep {lower}\")\n",
    "            return lower\n",
    "        else:\n",
    "            print(f\"Keep {upper}\")\n",
    "            return upper"
   ]
  },
  {
   "cell_type": "code",
   "execution_count": null,
   "metadata": {},
   "outputs": [],
   "source": [
    "mistero(list(range(6)))"
   ]
  },
  {
   "cell_type": "code",
   "execution_count": null,
   "metadata": {},
   "outputs": [],
   "source": [
    "mistero([-1,0,10,10000,50,66,80])"
   ]
  },
  {
   "cell_type": "markdown",
   "metadata": {},
   "source": [
    "# Previous Exam\n",
    "\n",
    "#### Question 1\n",
    "\n",
    "`097097114103104` with `k=3`:\n",
    "- `097` = `a`\n",
    "- `097` = `a`\n",
    "- `114` = `r`\n",
    "- `103` = `g`\n",
    "- `104` = `h`"
   ]
  },
  {
   "cell_type": "code",
   "execution_count": null,
   "metadata": {},
   "outputs": [],
   "source": [
    "from run import *"
   ]
  },
  {
   "cell_type": "code",
   "execution_count": null,
   "metadata": {},
   "outputs": [],
   "source": [
    "print(num2txt(97097114103104, k=3))"
   ]
  },
  {
   "cell_type": "markdown",
   "metadata": {},
   "source": [
    "#### Question 2\n",
    "The function `reverse_records(csv_filename, new_filename)` takes in an input `csv_filename` and copies its content into `new_filename`.   \n",
    "- The header of the input file is copied first\n",
    "- Then, the ordering of the remaining rows are reversed such that the last row in the input file is inserted in the output file first."
   ]
  },
  {
   "cell_type": "code",
   "execution_count": null,
   "metadata": {},
   "outputs": [],
   "source": [
    "stuff()"
   ]
  }
 ],
 "metadata": {
  "kernelspec": {
   "display_name": "Python 3",
   "language": "python",
   "name": "python3"
  },
  "language_info": {
   "codemirror_mode": {
    "name": "ipython",
    "version": 3
   },
   "file_extension": ".py",
   "mimetype": "text/x-python",
   "name": "python",
   "nbconvert_exporter": "python",
   "pygments_lexer": "ipython3",
   "version": "3.8.5"
  }
 },
 "nbformat": 4,
 "nbformat_minor": 4
}
