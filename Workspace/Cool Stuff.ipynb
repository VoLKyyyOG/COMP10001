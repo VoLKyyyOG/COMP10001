{
 "cells": [
  {
   "cell_type": "markdown",
   "metadata": {},
   "source": [
    "```python\n",
    "freq = {}\n",
    "\n",
    "words = \"apple apple fish apple\"\n",
    "for word in words.split():\n",
    "    if word not in freq:\n",
    "        freq[word] = 0\n",
    "    freq[word] += 1\n",
    "```"
   ]
  },
  {
   "cell_type": "markdown",
   "metadata": {},
   "source": [
    "## Defaultdict vs Counter\n",
    "Defaultdict:\n",
    "- `defaultdict` is a generalised dictionary that can initialise keys it has never seen before to the equivalent of `bool() = False`.\n",
    "- For example, if I had a `defaultdict(int)`, then `bool(0) = False`. Therefore, any new key added will be initialised to `0`.\n",
    "- Additionally, consider a `defaultdict(list)`. Since `bool([]) = False`, then any new key added will be initialised as an empty list `[]`.\n",
    "\n",
    "Counter:\n",
    "- A variation of the `defaultdict(int)` which essentially packs the following code into a function:  \n",
    "\n",
    "```python\n",
    "from collections import defaultdict\n",
    "\n",
    "freq = defaultdict(int)\n",
    "\n",
    "words = \"apple apple fish apple\"\n",
    "for word in words.split():\n",
    "    freq[word] += 1\n",
    "```\n",
    "\n",
    "- or alternatively using `Counter()`...    \n",
    "\n",
    "```python\n",
    "from collections import Counter\n",
    "\n",
    "words = \"apple apple fish apple\"\n",
    "freq = Counter(words.split())\n",
    "```\n",
    "- the code blocks above both yield the same answer (but `Counter()` has some nice methods such as `.most_common()`)"
   ]
  },
  {
   "cell_type": "code",
   "execution_count": 1,
   "metadata": {},
   "outputs": [],
   "source": [
    "from collections import Counter\n",
    "\n",
    "words = \"apple apple fish apple blob sugar candy apple fish fish apple\"\n",
    "freq = Counter(words.split())"
   ]
  },
  {
   "cell_type": "code",
   "execution_count": 2,
   "metadata": {},
   "outputs": [
    {
     "data": {
      "text/plain": [
       "Counter({'apple': 5, 'fish': 3, 'blob': 1, 'sugar': 1, 'candy': 1})"
      ]
     },
     "execution_count": 2,
     "metadata": {},
     "output_type": "execute_result"
    }
   ],
   "source": [
    "freq"
   ]
  },
  {
   "cell_type": "code",
   "execution_count": 3,
   "metadata": {},
   "outputs": [
    {
     "data": {
      "text/plain": [
       "[('apple', 5)]"
      ]
     },
     "execution_count": 3,
     "metadata": {},
     "output_type": "execute_result"
    }
   ],
   "source": [
    "freq.most_common(1)  "
   ]
  },
  {
   "cell_type": "code",
   "execution_count": 4,
   "metadata": {},
   "outputs": [
    {
     "data": {
      "text/plain": [
       "[('apple', 5), ('fish', 3), ('blob', 1)]"
      ]
     },
     "execution_count": 4,
     "metadata": {},
     "output_type": "execute_result"
    }
   ],
   "source": [
    "freq.most_common(3)  "
   ]
  },
  {
   "cell_type": "markdown",
   "metadata": {},
   "source": [
    "## List Comprehension"
   ]
  },
  {
   "cell_type": "code",
   "execution_count": 5,
   "metadata": {},
   "outputs": [],
   "source": [
    "nums = range(20)"
   ]
  },
  {
   "cell_type": "markdown",
   "metadata": {},
   "source": [
    "Simple list comprehension:"
   ]
  },
  {
   "cell_type": "code",
   "execution_count": 6,
   "metadata": {},
   "outputs": [
    {
     "data": {
      "text/plain": [
       "[0, 1, 2, 3, 4, 5, 6, 7, 8, 9, 10, 11, 12, 13, 14, 15, 16, 17, 18, 19]"
      ]
     },
     "execution_count": 6,
     "metadata": {},
     "output_type": "execute_result"
    }
   ],
   "source": [
    "[i for i in nums]"
   ]
  },
  {
   "cell_type": "markdown",
   "metadata": {},
   "source": [
    "Consider this code:  \n",
    "\n",
    "```python\n",
    "output = []\n",
    "for i in nums:\n",
    "    if i % 2 == 0:\n",
    "        output.append(i)\n",
    "```\n",
    "\n",
    "To convert this into a list comprehension using a single `if` statement:"
   ]
  },
  {
   "cell_type": "code",
   "execution_count": 7,
   "metadata": {},
   "outputs": [
    {
     "data": {
      "text/plain": [
       "[0, 2, 4, 6, 8, 10, 12, 14, 16, 18]"
      ]
     },
     "execution_count": 7,
     "metadata": {},
     "output_type": "execute_result"
    }
   ],
   "source": [
    "[i for i in nums if i % 2 == 0]"
   ]
  },
  {
   "cell_type": "markdown",
   "metadata": {},
   "source": [
    "Consider this code:  \n",
    "\n",
    "```python\n",
    "output = []\n",
    "for i in nums:\n",
    "    if i % 2 == 0:\n",
    "        output.append(i)\n",
    "    else:\n",
    "        output.append(-1)\n",
    "```\n",
    "\n",
    "To convert this into a list comprehension using multiple conditions:"
   ]
  },
  {
   "cell_type": "code",
   "execution_count": 8,
   "metadata": {},
   "outputs": [
    {
     "data": {
      "text/plain": [
       "[0, -1, 2, -1, 4, -1, 6, -1, 8, -1, 10, -1, 12, -1, 14, -1, 16, -1, 18, -1]"
      ]
     },
     "execution_count": 8,
     "metadata": {},
     "output_type": "execute_result"
    }
   ],
   "source": [
    "[i if i % 2 == 0 else -1 for i in nums]"
   ]
  },
  {
   "cell_type": "markdown",
   "metadata": {},
   "source": [
    "**Advanced**\n",
    "- Dictionary comprehension\n",
    "- Set comprehension"
   ]
  },
  {
   "cell_type": "code",
   "execution_count": 9,
   "metadata": {},
   "outputs": [
    {
     "data": {
      "text/plain": [
       "{'apple': 4, 'fish': 7, 'banana': 10}"
      ]
     },
     "execution_count": 9,
     "metadata": {},
     "output_type": "execute_result"
    }
   ],
   "source": [
    "words = \"apple fish banana\"\n",
    "nums = (4, 7, 10)\n",
    "\n",
    "{word: num for word, num in zip(words.split(), nums)}"
   ]
  },
  {
   "cell_type": "code",
   "execution_count": 10,
   "metadata": {},
   "outputs": [
    {
     "data": {
      "text/plain": [
       "{(0, 1): 10, (1, 1): 5, (7, 3): 3, (7, 0): -1}"
      ]
     },
     "execution_count": 10,
     "metadata": {},
     "output_type": "execute_result"
    }
   ],
   "source": [
    "counts = [((0, 1), 10), ((1, 1), 5), ((7, 3), 3), ((7, 0), -1)]\n",
    "\n",
    "{coordinate: value for coordinate, value in counts}"
   ]
  },
  {
   "cell_type": "code",
   "execution_count": 11,
   "metadata": {},
   "outputs": [
    {
     "data": {
      "text/plain": [
       "{'apple', 'banana', 'fish'}"
      ]
     },
     "execution_count": 11,
     "metadata": {},
     "output_type": "execute_result"
    }
   ],
   "source": [
    "dupes = \"apple apple fish apple banana FISH FISH FISH FISH\"\n",
    "\n",
    "{i for i in dupes.split() if i.islower()}"
   ]
  },
  {
   "cell_type": "markdown",
   "metadata": {},
   "source": [
    "## Cycle"
   ]
  },
  {
   "cell_type": "code",
   "execution_count": 12,
   "metadata": {
    "scrolled": true
   },
   "outputs": [
    {
     "name": "stdout",
     "output_type": "stream",
     "text": [
      "2\n",
      "3\n",
      "4\n",
      "5\n",
      "6\n",
      "7\n",
      "8\n",
      "9\n",
      "10\n",
      "J\n",
      "Q\n",
      "K\n",
      "2\n",
      "3\n",
      "4\n",
      "5\n",
      "6\n",
      "7\n",
      "8\n",
      "9\n",
      "10\n",
      "J\n",
      "Q\n",
      "K\n"
     ]
    }
   ],
   "source": [
    "from itertools import cycle\n",
    "\n",
    "cards = cycle([2,3,4,5,6,7,8,9,10,'J','Q','K'])\n",
    "\n",
    "for i in range(24):\n",
    "    print(next(cards))"
   ]
  },
  {
   "cell_type": "markdown",
   "metadata": {},
   "source": [
    "## Combinations vs Permutations"
   ]
  },
  {
   "cell_type": "code",
   "execution_count": 13,
   "metadata": {},
   "outputs": [],
   "source": [
    "from itertools import combinations, permutations\n",
    "\n",
    "nums = range(10)"
   ]
  },
  {
   "cell_type": "markdown",
   "metadata": {},
   "source": [
    "Combinations:  \n",
    "- All unique sets of combinations (i.e if we have `(0, 1)`, we won't have a `(1, 0)`).\n",
    "- That is, we find all combinations without replacement.\n",
    "- Ordering does not matter."
   ]
  },
  {
   "cell_type": "code",
   "execution_count": 14,
   "metadata": {
    "scrolled": true
   },
   "outputs": [
    {
     "data": {
      "text/plain": [
       "[(0, 1),\n",
       " (0, 2),\n",
       " (0, 3),\n",
       " (0, 4),\n",
       " (0, 5),\n",
       " (0, 6),\n",
       " (0, 7),\n",
       " (0, 8),\n",
       " (0, 9),\n",
       " (1, 2),\n",
       " (1, 3),\n",
       " (1, 4),\n",
       " (1, 5),\n",
       " (1, 6),\n",
       " (1, 7),\n",
       " (1, 8),\n",
       " (1, 9),\n",
       " (2, 3),\n",
       " (2, 4),\n",
       " (2, 5),\n",
       " (2, 6),\n",
       " (2, 7),\n",
       " (2, 8),\n",
       " (2, 9),\n",
       " (3, 4),\n",
       " (3, 5),\n",
       " (3, 6),\n",
       " (3, 7),\n",
       " (3, 8),\n",
       " (3, 9),\n",
       " (4, 5),\n",
       " (4, 6),\n",
       " (4, 7),\n",
       " (4, 8),\n",
       " (4, 9),\n",
       " (5, 6),\n",
       " (5, 7),\n",
       " (5, 8),\n",
       " (5, 9),\n",
       " (6, 7),\n",
       " (6, 8),\n",
       " (6, 9),\n",
       " (7, 8),\n",
       " (7, 9),\n",
       " (8, 9)]"
      ]
     },
     "execution_count": 14,
     "metadata": {},
     "output_type": "execute_result"
    }
   ],
   "source": [
    "list(combinations(nums, r=2))"
   ]
  },
  {
   "cell_type": "markdown",
   "metadata": {},
   "source": [
    "Permutations:\n",
    "- All unique sequences of combinations (i.e if we have `(0, 1)`, we will have a `(1, 0)` as it has different ordering).\n",
    "- That is, all possible *combinations* in which a sequence can be ordered or arranged.\n",
    "- Ordering does matter."
   ]
  },
  {
   "cell_type": "code",
   "execution_count": 15,
   "metadata": {
    "scrolled": true
   },
   "outputs": [
    {
     "data": {
      "text/plain": [
       "[(0, 1),\n",
       " (0, 2),\n",
       " (0, 3),\n",
       " (0, 4),\n",
       " (0, 5),\n",
       " (0, 6),\n",
       " (0, 7),\n",
       " (0, 8),\n",
       " (0, 9),\n",
       " (1, 0),\n",
       " (1, 2),\n",
       " (1, 3),\n",
       " (1, 4),\n",
       " (1, 5),\n",
       " (1, 6),\n",
       " (1, 7),\n",
       " (1, 8),\n",
       " (1, 9),\n",
       " (2, 0),\n",
       " (2, 1),\n",
       " (2, 3),\n",
       " (2, 4),\n",
       " (2, 5),\n",
       " (2, 6),\n",
       " (2, 7),\n",
       " (2, 8),\n",
       " (2, 9),\n",
       " (3, 0),\n",
       " (3, 1),\n",
       " (3, 2),\n",
       " (3, 4),\n",
       " (3, 5),\n",
       " (3, 6),\n",
       " (3, 7),\n",
       " (3, 8),\n",
       " (3, 9),\n",
       " (4, 0),\n",
       " (4, 1),\n",
       " (4, 2),\n",
       " (4, 3),\n",
       " (4, 5),\n",
       " (4, 6),\n",
       " (4, 7),\n",
       " (4, 8),\n",
       " (4, 9),\n",
       " (5, 0),\n",
       " (5, 1),\n",
       " (5, 2),\n",
       " (5, 3),\n",
       " (5, 4),\n",
       " (5, 6),\n",
       " (5, 7),\n",
       " (5, 8),\n",
       " (5, 9),\n",
       " (6, 0),\n",
       " (6, 1),\n",
       " (6, 2),\n",
       " (6, 3),\n",
       " (6, 4),\n",
       " (6, 5),\n",
       " (6, 7),\n",
       " (6, 8),\n",
       " (6, 9),\n",
       " (7, 0),\n",
       " (7, 1),\n",
       " (7, 2),\n",
       " (7, 3),\n",
       " (7, 4),\n",
       " (7, 5),\n",
       " (7, 6),\n",
       " (7, 8),\n",
       " (7, 9),\n",
       " (8, 0),\n",
       " (8, 1),\n",
       " (8, 2),\n",
       " (8, 3),\n",
       " (8, 4),\n",
       " (8, 5),\n",
       " (8, 6),\n",
       " (8, 7),\n",
       " (8, 9),\n",
       " (9, 0),\n",
       " (9, 1),\n",
       " (9, 2),\n",
       " (9, 3),\n",
       " (9, 4),\n",
       " (9, 5),\n",
       " (9, 6),\n",
       " (9, 7),\n",
       " (9, 8)]"
      ]
     },
     "execution_count": 15,
     "metadata": {},
     "output_type": "execute_result"
    }
   ],
   "source": [
    "list(permutations(nums,r=2))"
   ]
  },
  {
   "cell_type": "markdown",
   "metadata": {},
   "source": [
    "## Unpacking"
   ]
  },
  {
   "cell_type": "code",
   "execution_count": 16,
   "metadata": {},
   "outputs": [
    {
     "name": "stdout",
     "output_type": "stream",
     "text": [
      "1\n",
      "0\n"
     ]
    }
   ],
   "source": [
    "x, y = (1, 0)\n",
    "print(x)\n",
    "print(y)"
   ]
  },
  {
   "cell_type": "code",
   "execution_count": 17,
   "metadata": {},
   "outputs": [
    {
     "name": "stdout",
     "output_type": "stream",
     "text": [
      "[1, 7, 3, 5]\n",
      "4\n"
     ]
    }
   ],
   "source": [
    "nums, count = ([1, 7, 3, 5], 4)\n",
    "print(nums)\n",
    "print(count)"
   ]
  },
  {
   "cell_type": "code",
   "execution_count": 18,
   "metadata": {},
   "outputs": [
    {
     "name": "stdout",
     "output_type": "stream",
     "text": [
      "0\n",
      "1\n"
     ]
    }
   ],
   "source": [
    "*_, n1, n2 = (\"rubbish1\", \"rubbish2\", 0, 1)\n",
    "print(n1)\n",
    "print(n2)"
   ]
  },
  {
   "cell_type": "code",
   "execution_count": 19,
   "metadata": {},
   "outputs": [
    {
     "name": "stdout",
     "output_type": "stream",
     "text": [
      "3\n",
      "7\n"
     ]
    }
   ],
   "source": [
    "n3, *_, n4 = (3, \"rubbish1\", \"rubbish2\", \"rubbish3\", \"rubbish4\", 7)\n",
    "print(n3)\n",
    "print(n4)"
   ]
  },
  {
   "cell_type": "code",
   "execution_count": 20,
   "metadata": {},
   "outputs": [
    {
     "name": "stdout",
     "output_type": "stream",
     "text": [
      "10\n",
      "9\n"
     ]
    }
   ],
   "source": [
    "n5, n6, *_ = (10, 9, \"rubbish1\", \"rubbish2\", \"rubbish3\")\n",
    "print(n5)\n",
    "print(n6)"
   ]
  },
  {
   "cell_type": "markdown",
   "metadata": {},
   "source": [
    "## Iteration vs Recursion"
   ]
  },
  {
   "cell_type": "code",
   "execution_count": 21,
   "metadata": {},
   "outputs": [
    {
     "data": {
      "text/plain": [
       "'wow this is a cool thing'"
      ]
     },
     "execution_count": 21,
     "metadata": {},
     "output_type": "execute_result"
    }
   ],
   "source": [
    "text = \"wow this is a cool thing\"\n",
    "text"
   ]
  },
  {
   "cell_type": "markdown",
   "metadata": {
    "scrolled": true
   },
   "source": [
    "Here's an iterative solution"
   ]
  },
  {
   "cell_type": "code",
   "execution_count": 22,
   "metadata": {},
   "outputs": [
    {
     "name": "stdout",
     "output_type": "stream",
     "text": [
      "Index: 0    w\n",
      "Index: 1    o\n",
      "Index: 2    w\n",
      "Index: 3     \n",
      "Index: 4    t\n",
      "Index: 5    h\n",
      "Index: 6    i\n",
      "Index: 7    s\n",
      "Index: 8     \n",
      "Index: 9    i\n",
      "Index: 10    s\n",
      "Index: 11     \n",
      "Index: 12    a\n",
      "Index: 13     \n",
      "Index: 14    c\n",
      "Index: 15    o\n",
      "Index: 16    o\n",
      "Index: 17    l\n",
      "Index: 18     \n",
      "Index: 19    t\n",
      "Index: 20    h\n",
      "Index: 21    i\n",
      "Index: 22    n\n",
      "\n",
      "STOP\n",
      "Found n at index 22\n"
     ]
    }
   ],
   "source": [
    "def find_n(text, letter='n'):\n",
    "    for idx, char in enumerate(text):\n",
    "        print(f\"Index: {idx}    {char}\")\n",
    "        if char == letter:\n",
    "            print(\"\\nSTOP\")\n",
    "            print(f\"Found {letter} at index {idx}\")\n",
    "            return \n",
    "        \n",
    "find_n(text, 'n')"
   ]
  },
  {
   "cell_type": "markdown",
   "metadata": {},
   "source": [
    "Now consider this recursive alternative"
   ]
  },
  {
   "cell_type": "code",
   "execution_count": 23,
   "metadata": {},
   "outputs": [],
   "source": [
    "def find_n(text, calls=0, letter='n'):\n",
    "    print(f\"Call: {calls}    {text}\")\n",
    "    if text and text[0] == letter:\n",
    "        print(\"\\nSTOP\")\n",
    "        print(f\"Found {letter} at index {calls}\")\n",
    "        return\n",
    "    \n",
    "    return find_n(text[1:], calls + 1)"
   ]
  },
  {
   "cell_type": "code",
   "execution_count": 24,
   "metadata": {},
   "outputs": [
    {
     "name": "stdout",
     "output_type": "stream",
     "text": [
      "Call: 0    wow this is a cool thing\n",
      "Call: 1    ow this is a cool thing\n",
      "Call: 2    w this is a cool thing\n",
      "Call: 3     this is a cool thing\n",
      "Call: 4    this is a cool thing\n",
      "Call: 5    his is a cool thing\n",
      "Call: 6    is is a cool thing\n",
      "Call: 7    s is a cool thing\n",
      "Call: 8     is a cool thing\n",
      "Call: 9    is a cool thing\n",
      "Call: 10    s a cool thing\n",
      "Call: 11     a cool thing\n",
      "Call: 12    a cool thing\n",
      "Call: 13     cool thing\n",
      "Call: 14    cool thing\n",
      "Call: 15    ool thing\n",
      "Call: 16    ol thing\n",
      "Call: 17    l thing\n",
      "Call: 18     thing\n",
      "Call: 19    thing\n",
      "Call: 20    hing\n",
      "Call: 21    ing\n",
      "Call: 22    ng\n",
      "\n",
      "STOP\n",
      "Found n at index 22\n"
     ]
    }
   ],
   "source": [
    "find_n(text)"
   ]
  },
  {
   "cell_type": "markdown",
   "metadata": {},
   "source": [
    "#### Exercise Question for Recursion"
   ]
  },
  {
   "cell_type": "code",
   "execution_count": 25,
   "metadata": {},
   "outputs": [],
   "source": [
    "def mistero(x):\n",
    "    a = len(x)\n",
    "    if a == 1:\n",
    "        return x[0]\n",
    "    else:\n",
    "        y = mistero(x[a//2:])\n",
    "        z = mistero(x[:a//2])\n",
    "        if z > y:\n",
    "            return z\n",
    "        else:\n",
    "            return y"
   ]
  },
  {
   "cell_type": "code",
   "execution_count": 26,
   "metadata": {},
   "outputs": [],
   "source": [
    "CALL = 0\n",
    "\n",
    "def mistero(lst):\n",
    "    global CALL\n",
    "    print(f\"\\n     CALL: {CALL}\\n\")\n",
    "    CALL += 1\n",
    "\n",
    "    \n",
    "    listLen = len(lst)\n",
    "    \n",
    "    print(f\"Number of elements: {listLen}    List: {lst}\")\n",
    "    \n",
    "    if listLen == 1:\n",
    "        return lst[0]\n",
    "    else:\n",
    "        upper = mistero(lst[listLen//2:])\n",
    "        lower = mistero(lst[:listLen//2])\n",
    "        \n",
    "        print(f\"Upper: {upper}    Lower: {lower}\")\n",
    "        \n",
    "        if lower > upper:\n",
    "            print(f\"Keep {lower}\")\n",
    "            return lower\n",
    "        else:\n",
    "            print(f\"Keep {upper}\")\n",
    "            return upper"
   ]
  },
  {
   "cell_type": "code",
   "execution_count": 27,
   "metadata": {},
   "outputs": [
    {
     "name": "stdout",
     "output_type": "stream",
     "text": [
      "\n",
      "     CALL: 0\n",
      "\n",
      "Number of elements: 6    List: [0, 1, 2, 3, 4, 5]\n",
      "\n",
      "     CALL: 1\n",
      "\n",
      "Number of elements: 3    List: [3, 4, 5]\n",
      "\n",
      "     CALL: 2\n",
      "\n",
      "Number of elements: 2    List: [4, 5]\n",
      "\n",
      "     CALL: 3\n",
      "\n",
      "Number of elements: 1    List: [5]\n",
      "\n",
      "     CALL: 4\n",
      "\n",
      "Number of elements: 1    List: [4]\n",
      "Upper: 5    Lower: 4\n",
      "Keep 5\n",
      "\n",
      "     CALL: 5\n",
      "\n",
      "Number of elements: 1    List: [3]\n",
      "Upper: 5    Lower: 3\n",
      "Keep 5\n",
      "\n",
      "     CALL: 6\n",
      "\n",
      "Number of elements: 3    List: [0, 1, 2]\n",
      "\n",
      "     CALL: 7\n",
      "\n",
      "Number of elements: 2    List: [1, 2]\n",
      "\n",
      "     CALL: 8\n",
      "\n",
      "Number of elements: 1    List: [2]\n",
      "\n",
      "     CALL: 9\n",
      "\n",
      "Number of elements: 1    List: [1]\n",
      "Upper: 2    Lower: 1\n",
      "Keep 2\n",
      "\n",
      "     CALL: 10\n",
      "\n",
      "Number of elements: 1    List: [0]\n",
      "Upper: 2    Lower: 0\n",
      "Keep 2\n",
      "Upper: 5    Lower: 2\n",
      "Keep 5\n"
     ]
    },
    {
     "data": {
      "text/plain": [
       "5"
      ]
     },
     "execution_count": 27,
     "metadata": {},
     "output_type": "execute_result"
    }
   ],
   "source": [
    "mistero(list(range(6)))"
   ]
  },
  {
   "cell_type": "code",
   "execution_count": 28,
   "metadata": {},
   "outputs": [
    {
     "name": "stdout",
     "output_type": "stream",
     "text": [
      "\n",
      "     CALL: 11\n",
      "\n",
      "Number of elements: 7    List: [-1, 0, 10, 10000, 50, 66, 80]\n",
      "\n",
      "     CALL: 12\n",
      "\n",
      "Number of elements: 4    List: [10000, 50, 66, 80]\n",
      "\n",
      "     CALL: 13\n",
      "\n",
      "Number of elements: 2    List: [66, 80]\n",
      "\n",
      "     CALL: 14\n",
      "\n",
      "Number of elements: 1    List: [80]\n",
      "\n",
      "     CALL: 15\n",
      "\n",
      "Number of elements: 1    List: [66]\n",
      "Upper: 80    Lower: 66\n",
      "Keep 80\n",
      "\n",
      "     CALL: 16\n",
      "\n",
      "Number of elements: 2    List: [10000, 50]\n",
      "\n",
      "     CALL: 17\n",
      "\n",
      "Number of elements: 1    List: [50]\n",
      "\n",
      "     CALL: 18\n",
      "\n",
      "Number of elements: 1    List: [10000]\n",
      "Upper: 50    Lower: 10000\n",
      "Keep 10000\n",
      "Upper: 80    Lower: 10000\n",
      "Keep 10000\n",
      "\n",
      "     CALL: 19\n",
      "\n",
      "Number of elements: 3    List: [-1, 0, 10]\n",
      "\n",
      "     CALL: 20\n",
      "\n",
      "Number of elements: 2    List: [0, 10]\n",
      "\n",
      "     CALL: 21\n",
      "\n",
      "Number of elements: 1    List: [10]\n",
      "\n",
      "     CALL: 22\n",
      "\n",
      "Number of elements: 1    List: [0]\n",
      "Upper: 10    Lower: 0\n",
      "Keep 10\n",
      "\n",
      "     CALL: 23\n",
      "\n",
      "Number of elements: 1    List: [-1]\n",
      "Upper: 10    Lower: -1\n",
      "Keep 10\n",
      "Upper: 10000    Lower: 10\n",
      "Keep 10000\n"
     ]
    },
    {
     "data": {
      "text/plain": [
       "10000"
      ]
     },
     "execution_count": 28,
     "metadata": {},
     "output_type": "execute_result"
    }
   ],
   "source": [
    "mistero([-1,0,10,10000,50,66,80])"
   ]
  },
  {
   "cell_type": "markdown",
   "metadata": {},
   "source": [
    "## Previous Exam Questions\n",
    "\n",
    "#### Question 1\n",
    "\n",
    "`097097114103104` with `k=3`:\n",
    "- `097` = `a`\n",
    "- `097` = `a`\n",
    "- `114` = `r`\n",
    "- `103` = `g`\n",
    "- `104` = `h`"
   ]
  },
  {
   "cell_type": "code",
   "execution_count": 29,
   "metadata": {},
   "outputs": [],
   "source": [
    "from run import *"
   ]
  },
  {
   "cell_type": "code",
   "execution_count": 30,
   "metadata": {},
   "outputs": [
    {
     "name": "stdout",
     "output_type": "stream",
     "text": [
      "aargh\n"
     ]
    }
   ],
   "source": [
    "print(num2txt(97097114103104, k=3))"
   ]
  },
  {
   "cell_type": "markdown",
   "metadata": {},
   "source": [
    "#### Question 2\n",
    "The function `reverse_records(csv_filename, new_filename)` takes in an input `csv_filename` and copies its content into `new_filename`.   \n",
    "- The header of the input file is copied first\n",
    "- Then, the ordering of the remaining rows are reversed such that the last row in the input file is inserted in the output file first."
   ]
  },
  {
   "cell_type": "code",
   "execution_count": 31,
   "metadata": {},
   "outputs": [
    {
     "name": "stdout",
     "output_type": "stream",
     "text": [
      "Input\n"
     ]
    },
    {
     "data": {
      "text/html": [
       "<div>\n",
       "<style scoped>\n",
       "    .dataframe tbody tr th:only-of-type {\n",
       "        vertical-align: middle;\n",
       "    }\n",
       "\n",
       "    .dataframe tbody tr th {\n",
       "        vertical-align: top;\n",
       "    }\n",
       "\n",
       "    .dataframe thead th {\n",
       "        text-align: right;\n",
       "    }\n",
       "</style>\n",
       "<table border=\"1\" class=\"dataframe\">\n",
       "  <thead>\n",
       "    <tr style=\"text-align: right;\">\n",
       "      <th></th>\n",
       "      <th>col1</th>\n",
       "      <th>col2</th>\n",
       "      <th>col3</th>\n",
       "    </tr>\n",
       "  </thead>\n",
       "  <tbody>\n",
       "    <tr>\n",
       "      <th></th>\n",
       "      <td>1</td>\n",
       "      <td>2</td>\n",
       "      <td>3</td>\n",
       "    </tr>\n",
       "    <tr>\n",
       "      <th></th>\n",
       "      <td>4</td>\n",
       "      <td>5</td>\n",
       "      <td>6</td>\n",
       "    </tr>\n",
       "    <tr>\n",
       "      <th></th>\n",
       "      <td>7</td>\n",
       "      <td>8</td>\n",
       "      <td>9</td>\n",
       "    </tr>\n",
       "    <tr>\n",
       "      <th></th>\n",
       "      <td>a</td>\n",
       "      <td>b</td>\n",
       "      <td>c</td>\n",
       "    </tr>\n",
       "    <tr>\n",
       "      <th></th>\n",
       "      <td>x</td>\n",
       "      <td>y</td>\n",
       "      <td>z</td>\n",
       "    </tr>\n",
       "  </tbody>\n",
       "</table>\n",
       "</div>"
      ],
      "text/plain": [
       " col1  col2  col3\n",
       "    1     2     3\n",
       "    4     5     6\n",
       "    7     8     9\n",
       "    a     b     c\n",
       "    x     y     z"
      ]
     },
     "metadata": {},
     "output_type": "display_data"
    },
    {
     "name": "stdout",
     "output_type": "stream",
     "text": [
      "Output\n"
     ]
    },
    {
     "data": {
      "text/html": [
       "<div>\n",
       "<style scoped>\n",
       "    .dataframe tbody tr th:only-of-type {\n",
       "        vertical-align: middle;\n",
       "    }\n",
       "\n",
       "    .dataframe tbody tr th {\n",
       "        vertical-align: top;\n",
       "    }\n",
       "\n",
       "    .dataframe thead th {\n",
       "        text-align: right;\n",
       "    }\n",
       "</style>\n",
       "<table border=\"1\" class=\"dataframe\">\n",
       "  <thead>\n",
       "    <tr style=\"text-align: right;\">\n",
       "      <th></th>\n",
       "      <th>col1</th>\n",
       "      <th>col2</th>\n",
       "      <th>col3</th>\n",
       "    </tr>\n",
       "  </thead>\n",
       "  <tbody>\n",
       "    <tr>\n",
       "      <th></th>\n",
       "      <td>x</td>\n",
       "      <td>y</td>\n",
       "      <td>z</td>\n",
       "    </tr>\n",
       "    <tr>\n",
       "      <th></th>\n",
       "      <td>a</td>\n",
       "      <td>b</td>\n",
       "      <td>c</td>\n",
       "    </tr>\n",
       "    <tr>\n",
       "      <th></th>\n",
       "      <td>7</td>\n",
       "      <td>8</td>\n",
       "      <td>9</td>\n",
       "    </tr>\n",
       "    <tr>\n",
       "      <th></th>\n",
       "      <td>4</td>\n",
       "      <td>5</td>\n",
       "      <td>6</td>\n",
       "    </tr>\n",
       "    <tr>\n",
       "      <th></th>\n",
       "      <td>1</td>\n",
       "      <td>2</td>\n",
       "      <td>3</td>\n",
       "    </tr>\n",
       "  </tbody>\n",
       "</table>\n",
       "</div>"
      ],
      "text/plain": [
       " col1  col2  col3\n",
       "    x     y     z\n",
       "    a     b     c\n",
       "    7     8     9\n",
       "    4     5     6\n",
       "    1     2     3"
      ]
     },
     "metadata": {},
     "output_type": "display_data"
    }
   ],
   "source": [
    "stuff()"
   ]
  }
 ],
 "metadata": {
  "kernelspec": {
   "display_name": "Python 3",
   "language": "python",
   "name": "python3"
  },
  "language_info": {
   "codemirror_mode": {
    "name": "ipython",
    "version": 3
   },
   "file_extension": ".py",
   "mimetype": "text/x-python",
   "name": "python",
   "nbconvert_exporter": "python",
   "pygments_lexer": "ipython3",
   "version": "3.8.5"
  }
 },
 "nbformat": 4,
 "nbformat_minor": 4
}
